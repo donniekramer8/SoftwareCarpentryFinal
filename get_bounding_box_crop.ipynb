{
 "cells": [
  {
   "cell_type": "code",
   "execution_count": 1,
   "id": "e172d32c",
   "metadata": {},
   "outputs": [],
   "source": [
    "# TODO: convert to .py\n",
    "\n",
    "from PIL import Image\n",
    "import numpy as np"
   ]
  },
  {
   "cell_type": "code",
   "execution_count": 3,
   "id": "6b750b5c",
   "metadata": {},
   "outputs": [],
   "source": [
    "im_path = 'test_data/test.png'\n",
    "mask_path = 'make_bad_mask/test_mask_bad.png'\n",
    "\n",
    "im = Image.open(im_path)\n",
    "mask = Image.open(mask_path)"
   ]
  },
  {
   "cell_type": "code",
   "execution_count": 7,
   "id": "6b59bd93",
   "metadata": {},
   "outputs": [
    {
     "name": "stdout",
     "output_type": "stream",
     "text": [
      "(6359, 1943)\n",
      "(6359, 1943)\n"
     ]
    }
   ],
   "source": [
    "print(im.size)\n",
    "print(mask.size)"
   ]
  },
  {
   "cell_type": "code",
   "execution_count": null,
   "id": "475b1bbb",
   "metadata": {},
   "outputs": [],
   "source": []
  }
 ],
 "metadata": {
  "kernelspec": {
   "display_name": "hest",
   "language": "python",
   "name": "python3"
  },
  "language_info": {
   "codemirror_mode": {
    "name": "ipython",
    "version": 3
   },
   "file_extension": ".py",
   "mimetype": "text/x-python",
   "name": "python",
   "nbconvert_exporter": "python",
   "pygments_lexer": "ipython3",
   "version": "3.9.21"
  }
 },
 "nbformat": 4,
 "nbformat_minor": 5
}
